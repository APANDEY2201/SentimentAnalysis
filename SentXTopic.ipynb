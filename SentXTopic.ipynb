{
 "cells": [
  {
   "cell_type": "code",
   "execution_count": 1,
   "metadata": {},
   "outputs": [],
   "source": [
    "import pandas as pd\n",
    "import pickle\n"
   ]
  },
  {
   "cell_type": "code",
   "execution_count": 2,
   "metadata": {},
   "outputs": [],
   "source": [
    "#pickle_in = open(\"xx_yy.pickle\", \"rb\")\n",
    "pickle_in101 = open(\"C:\\\\Users\\\\Admin\\\\PycharmProjects\\\\CrossCulturalSentimentAnalysis\\\\LDA_04_Fitting_fittedData_07092020_113759.data\", \"rb\")\n",
    "sample_data = pickle.load(pickle_in101)\n"
   ]
  },
  {
   "cell_type": "code",
   "execution_count": 3,
   "metadata": {},
   "outputs": [],
   "source": [
    "\n",
    "unpickled_df = pd.DataFrame(sample_data)"
   ]
  },
  {
   "cell_type": "code",
   "execution_count": 4,
   "metadata": {},
   "outputs": [
    {
     "data": {
      "text/html": [
       "<div>\n",
       "<style scoped>\n",
       "    .dataframe tbody tr th:only-of-type {\n",
       "        vertical-align: middle;\n",
       "    }\n",
       "\n",
       "    .dataframe tbody tr th {\n",
       "        vertical-align: top;\n",
       "    }\n",
       "\n",
       "    .dataframe thead th {\n",
       "        text-align: right;\n",
       "    }\n",
       "</style>\n",
       "<table border=\"1\" class=\"dataframe\">\n",
       "  <thead>\n",
       "    <tr style=\"text-align: right;\">\n",
       "      <th></th>\n",
       "      <th>0</th>\n",
       "      <th>1</th>\n",
       "      <th>2</th>\n",
       "      <th>3</th>\n",
       "      <th>4</th>\n",
       "      <th>5</th>\n",
       "      <th>6</th>\n",
       "      <th>7</th>\n",
       "      <th>8</th>\n",
       "      <th>9</th>\n",
       "      <th>...</th>\n",
       "      <th>22</th>\n",
       "      <th>23</th>\n",
       "      <th>24</th>\n",
       "      <th>25</th>\n",
       "      <th>26</th>\n",
       "      <th>27</th>\n",
       "      <th>28</th>\n",
       "      <th>29</th>\n",
       "      <th>30</th>\n",
       "      <th>31</th>\n",
       "    </tr>\n",
       "  </thead>\n",
       "  <tbody>\n",
       "    <tr>\n",
       "      <th>0</th>\n",
       "      <td>Org</td>\n",
       "      <td>OrgSector</td>\n",
       "      <td>RverMonthYear</td>\n",
       "      <td>RverReviewer</td>\n",
       "      <td>RverPosition</td>\n",
       "      <td>RverLoc</td>\n",
       "      <td>RverRecom</td>\n",
       "      <td>RvReviewAbout</td>\n",
       "      <td>RvScore</td>\n",
       "      <td>RvComment</td>\n",
       "      <td>...</td>\n",
       "      <td>topic12</td>\n",
       "      <td>topic13</td>\n",
       "      <td>topic14</td>\n",
       "      <td>topic15</td>\n",
       "      <td>topic16</td>\n",
       "      <td>topic17</td>\n",
       "      <td>topic18</td>\n",
       "      <td>topic19</td>\n",
       "      <td>topic20</td>\n",
       "      <td>topic21</td>\n",
       "    </tr>\n",
       "    <tr>\n",
       "      <th>1</th>\n",
       "      <td>Instone Real Estate Group AG</td>\n",
       "      <td>Immobilien</td>\n",
       "      <td>May 2020</td>\n",
       "      <td>1</td>\n",
       "      <td>Führungskraft / Management</td>\n",
       "      <td>Hat zum Zeitpunkt der Bewertung im Bereich Fin...</td>\n",
       "      <td>Empfohlen</td>\n",
       "      <td>Overall</td>\n",
       "      <td>4.9</td>\n",
       "      <td>Top Arbeitgeber mit vielen Benefiz      Trans...</td>\n",
       "      <td>...</td>\n",
       "      <td>0.03125</td>\n",
       "      <td>0.03125</td>\n",
       "      <td>0.34375</td>\n",
       "      <td>0.03125</td>\n",
       "      <td>0.03125</td>\n",
       "      <td>0.03125</td>\n",
       "      <td>0.03125</td>\n",
       "      <td>0.03125</td>\n",
       "      <td>0.03125</td>\n",
       "      <td>0.03125</td>\n",
       "    </tr>\n",
       "  </tbody>\n",
       "</table>\n",
       "<p>2 rows × 32 columns</p>\n",
       "</div>"
      ],
      "text/plain": [
       "                             0           1              2             3   \\\n",
       "0                           Org   OrgSector  RverMonthYear  RverReviewer   \n",
       "1  Instone Real Estate Group AG  Immobilien       May 2020             1   \n",
       "\n",
       "                           4   \\\n",
       "0                RverPosition   \n",
       "1  Führungskraft / Management   \n",
       "\n",
       "                                                  5          6   \\\n",
       "0                                            RverLoc  RverRecom   \n",
       "1  Hat zum Zeitpunkt der Bewertung im Bereich Fin...  Empfohlen   \n",
       "\n",
       "              7        8                                                  9   \\\n",
       "0  RvReviewAbout  RvScore                                          RvComment   \n",
       "1        Overall      4.9   Top Arbeitgeber mit vielen Benefiz      Trans...   \n",
       "\n",
       "   ...       22       23       24       25       26       27       28  \\\n",
       "0  ...  topic12  topic13  topic14  topic15  topic16  topic17  topic18   \n",
       "1  ...  0.03125  0.03125  0.34375  0.03125  0.03125  0.03125  0.03125   \n",
       "\n",
       "        29       30       31  \n",
       "0  topic19  topic20  topic21  \n",
       "1  0.03125  0.03125  0.03125  \n",
       "\n",
       "[2 rows x 32 columns]"
      ]
     },
     "execution_count": 4,
     "metadata": {},
     "output_type": "execute_result"
    }
   ],
   "source": [
    "unpickled_df.head(2)"
   ]
  },
  {
   "cell_type": "code",
   "execution_count": 5,
   "metadata": {},
   "outputs": [
    {
     "name": "stdout",
     "output_type": "stream",
     "text": [
      "<class 'pandas.core.frame.DataFrame'>\n",
      "RangeIndex: 20998 entries, 0 to 20997\n",
      "Data columns (total 32 columns):\n",
      " #   Column  Non-Null Count  Dtype \n",
      "---  ------  --------------  ----- \n",
      " 0   0       20998 non-null  object\n",
      " 1   1       20998 non-null  object\n",
      " 2   2       20998 non-null  object\n",
      " 3   3       20998 non-null  object\n",
      " 4   4       20998 non-null  object\n",
      " 5   5       20998 non-null  object\n",
      " 6   6       20998 non-null  object\n",
      " 7   7       20998 non-null  object\n",
      " 8   8       20998 non-null  object\n",
      " 9   9       20998 non-null  object\n",
      " 10  10      20998 non-null  object\n",
      " 11  11      20998 non-null  object\n",
      " 12  12      20998 non-null  object\n",
      " 13  13      20998 non-null  object\n",
      " 14  14      20998 non-null  object\n",
      " 15  15      20998 non-null  object\n",
      " 16  16      20998 non-null  object\n",
      " 17  17      20998 non-null  object\n",
      " 18  18      20998 non-null  object\n",
      " 19  19      20998 non-null  object\n",
      " 20  20      20998 non-null  object\n",
      " 21  21      20998 non-null  object\n",
      " 22  22      20998 non-null  object\n",
      " 23  23      20998 non-null  object\n",
      " 24  24      20998 non-null  object\n",
      " 25  25      20998 non-null  object\n",
      " 26  26      20998 non-null  object\n",
      " 27  27      20998 non-null  object\n",
      " 28  28      20998 non-null  object\n",
      " 29  29      20998 non-null  object\n",
      " 30  30      20998 non-null  object\n",
      " 31  31      20998 non-null  object\n",
      "dtypes: object(32)\n",
      "memory usage: 5.1+ MB\n"
     ]
    }
   ],
   "source": [
    "unpickled_df.info()"
   ]
  },
  {
   "cell_type": "code",
   "execution_count": 6,
   "metadata": {},
   "outputs": [
    {
     "data": {
      "text/plain": [
       "RangeIndex(start=0, stop=32, step=1)"
      ]
     },
     "execution_count": 6,
     "metadata": {},
     "output_type": "execute_result"
    }
   ],
   "source": [
    "unpickled_df.columns"
   ]
  },
  {
   "cell_type": "code",
   "execution_count": 7,
   "metadata": {},
   "outputs": [],
   "source": [
    "# rename columns to header (first row in dataframe)\n",
    "new_columns=unpickled_df.loc[0]"
   ]
  },
  {
   "cell_type": "code",
   "execution_count": 8,
   "metadata": {},
   "outputs": [
    {
     "data": {
      "text/plain": [
       "0               Org\n",
       "1         OrgSector\n",
       "2     RverMonthYear\n",
       "3      RverReviewer\n",
       "4      RverPosition\n",
       "5           RverLoc\n",
       "6         RverRecom\n",
       "7     RvReviewAbout\n",
       "8           RvScore\n",
       "9         RvComment\n",
       "10           topic0\n",
       "11           topic1\n",
       "12           topic2\n",
       "13           topic3\n",
       "14           topic4\n",
       "15           topic5\n",
       "16           topic6\n",
       "17           topic7\n",
       "18           topic8\n",
       "19           topic9\n",
       "20          topic10\n",
       "21          topic11\n",
       "22          topic12\n",
       "23          topic13\n",
       "24          topic14\n",
       "25          topic15\n",
       "26          topic16\n",
       "27          topic17\n",
       "28          topic18\n",
       "29          topic19\n",
       "30          topic20\n",
       "31          topic21\n",
       "Name: 0, dtype: object"
      ]
     },
     "execution_count": 8,
     "metadata": {},
     "output_type": "execute_result"
    }
   ],
   "source": [
    "new_columns"
   ]
  },
  {
   "cell_type": "code",
   "execution_count": 9,
   "metadata": {},
   "outputs": [],
   "source": [
    "unpickled_df.columns = new_columns"
   ]
  },
  {
   "cell_type": "code",
   "execution_count": 10,
   "metadata": {},
   "outputs": [],
   "source": [
    "unpickled_df = unpickled_df[1:]"
   ]
  },
  {
   "cell_type": "code",
   "execution_count": 11,
   "metadata": {},
   "outputs": [
    {
     "data": {
      "text/plain": [
       "' Top Arbeitgeber mit vielen Benefiz      Transparente und regelmäßige Infos und Austausch mit dem Vorstand   '"
      ]
     },
     "execution_count": 11,
     "metadata": {},
     "output_type": "execute_result"
    }
   ],
   "source": [
    "unpickled_df['RvComment'][1]"
   ]
  },
  {
   "cell_type": "code",
   "execution_count": 12,
   "metadata": {},
   "outputs": [],
   "source": [
    "serLen = unpickled_df['RvComment'].size"
   ]
  },
  {
   "cell_type": "code",
   "execution_count": 13,
   "metadata": {},
   "outputs": [
    {
     "data": {
      "text/plain": [
       "20997"
      ]
     },
     "execution_count": 13,
     "metadata": {},
     "output_type": "execute_result"
    }
   ],
   "source": [
    "serLen"
   ]
  },
  {
   "cell_type": "code",
   "execution_count": 19,
   "metadata": {},
   "outputs": [],
   "source": [
    "sentiment_df=pd.read_pickle('sentiment_score_reviews.data')\n"
   ]
  },
  {
   "cell_type": "code",
   "execution_count": 20,
   "metadata": {},
   "outputs": [],
   "source": [
    "sentiment_df['summation']= sentiment_df['score']*sentiment_df['topic21']+sentiment_df['score']*sentiment_df['topic20']"
   ]
  },
  {
   "cell_type": "code",
   "execution_count": 25,
   "metadata": {},
   "outputs": [
    {
     "data": {
      "text/html": [
       "<div>\n",
       "<style scoped>\n",
       "    .dataframe tbody tr th:only-of-type {\n",
       "        vertical-align: middle;\n",
       "    }\n",
       "\n",
       "    .dataframe tbody tr th {\n",
       "        vertical-align: top;\n",
       "    }\n",
       "\n",
       "    .dataframe thead th {\n",
       "        text-align: right;\n",
       "    }\n",
       "</style>\n",
       "<table border=\"1\" class=\"dataframe\">\n",
       "  <thead>\n",
       "    <tr style=\"text-align: right;\">\n",
       "      <th></th>\n",
       "      <th>Org</th>\n",
       "      <th>OrgSector</th>\n",
       "      <th>RverMonthYear</th>\n",
       "      <th>RverReviewer</th>\n",
       "      <th>RverPosition</th>\n",
       "      <th>RverLoc</th>\n",
       "      <th>RverRecom</th>\n",
       "      <th>RvReviewAbout</th>\n",
       "      <th>RvScore</th>\n",
       "      <th>RvComment</th>\n",
       "      <th>...</th>\n",
       "      <th>topic14</th>\n",
       "      <th>topic15</th>\n",
       "      <th>topic16</th>\n",
       "      <th>topic17</th>\n",
       "      <th>topic18</th>\n",
       "      <th>topic19</th>\n",
       "      <th>topic20</th>\n",
       "      <th>topic21</th>\n",
       "      <th>score</th>\n",
       "      <th>summation</th>\n",
       "    </tr>\n",
       "  </thead>\n",
       "  <tbody>\n",
       "    <tr>\n",
       "      <th>1</th>\n",
       "      <td>Instone Real Estate Group AG</td>\n",
       "      <td>Immobilien</td>\n",
       "      <td>May 2020</td>\n",
       "      <td>1</td>\n",
       "      <td>Führungskraft / Management</td>\n",
       "      <td>Hat zum Zeitpunkt der Bewertung im Bereich Fin...</td>\n",
       "      <td>Empfohlen</td>\n",
       "      <td>Overall</td>\n",
       "      <td>4.9</td>\n",
       "      <td>Top Arbeitgeber mit vielen Benefiz      Trans...</td>\n",
       "      <td>...</td>\n",
       "      <td>0.34375</td>\n",
       "      <td>0.03125</td>\n",
       "      <td>0.03125</td>\n",
       "      <td>0.03125</td>\n",
       "      <td>0.03125</td>\n",
       "      <td>0.03125</td>\n",
       "      <td>0.03125</td>\n",
       "      <td>0.03125</td>\n",
       "      <td>0.3266</td>\n",
       "      <td>0.0204125</td>\n",
       "    </tr>\n",
       "  </tbody>\n",
       "</table>\n",
       "<p>1 rows × 34 columns</p>\n",
       "</div>"
      ],
      "text/plain": [
       "0                           Org   OrgSector RverMonthYear RverReviewer  \\\n",
       "1  Instone Real Estate Group AG  Immobilien      May 2020            1   \n",
       "\n",
       "0                RverPosition  \\\n",
       "1  Führungskraft / Management   \n",
       "\n",
       "0                                            RverLoc  RverRecom RvReviewAbout  \\\n",
       "1  Hat zum Zeitpunkt der Bewertung im Bereich Fin...  Empfohlen       Overall   \n",
       "\n",
       "0 RvScore                                          RvComment  ...  topic14  \\\n",
       "1     4.9   Top Arbeitgeber mit vielen Benefiz      Trans...  ...  0.34375   \n",
       "\n",
       "0  topic15  topic16  topic17  topic18  topic19  topic20  topic21   score  \\\n",
       "1  0.03125  0.03125  0.03125  0.03125  0.03125  0.03125  0.03125  0.3266   \n",
       "\n",
       "0  summation  \n",
       "1  0.0204125  \n",
       "\n",
       "[1 rows x 34 columns]"
      ]
     },
     "execution_count": 25,
     "metadata": {},
     "output_type": "execute_result"
    }
   ],
   "source": [
    "sentiment_df.head(2)"
   ]
  },
  {
   "cell_type": "code",
   "execution_count": 23,
   "metadata": {},
   "outputs": [
    {
     "name": "stdout",
     "output_type": "stream",
     "text": [
      "sum0 1    0.0102063\n",
      "dtype: object\n",
      "sum0 1    0.0102063\n",
      "dtype: object\n",
      "sum0 1    0.0102063\n",
      "dtype: object\n",
      "sum0 1    0.0102063\n",
      "dtype: object\n",
      "sum0 1    0.0102063\n",
      "dtype: object\n",
      "sum0 1    0.0102063\n",
      "dtype: object\n",
      "sum0 1    0.0102063\n",
      "dtype: object\n",
      "sum0 1    0.0102063\n",
      "dtype: object\n",
      "sum0 1    0.0102063\n",
      "dtype: object\n",
      "sum0 1    0.0102063\n",
      "dtype: object\n",
      "sum0 1    0.0102063\n",
      "dtype: object\n",
      "sum0 1    0.0102063\n",
      "dtype: object\n",
      "sum0 1    0.0102063\n",
      "dtype: object\n",
      "sum0 1    0.0102063\n",
      "dtype: object\n",
      "sum0 1    0.112269\n",
      "dtype: object\n",
      "sum0 1    0.0102063\n",
      "dtype: object\n",
      "sum0 1    0.0102063\n",
      "dtype: object\n",
      "sum0 1    0.0102063\n",
      "dtype: object\n",
      "sum0 1    0.0102063\n",
      "dtype: object\n",
      "sum0 1    0.0102063\n",
      "dtype: object\n",
      "sum0 1    0.0102063\n",
      "dtype: object\n",
      "sum0 1    0.0102063\n",
      "dtype: object\n",
      "1    0.3266\n",
      "dtype: object\n"
     ]
    }
   ],
   "source": [
    "summat=0\n",
    "average_var = 0\n",
    "for i in range(0, 22):\n",
    "    col_name='topic'+str(i)\n",
    "    sum0=sentiment_df['score']*sentiment_df[col_name]\n",
    "    summat=summat+sum0\n",
    "    print('sum0', sum0)\n",
    "    \n",
    "print(summat)\n"
   ]
  },
  {
   "cell_type": "code",
   "execution_count": 18,
   "metadata": {},
   "outputs": [
    {
     "name": "stdout",
     "output_type": "stream",
     "text": [
      "' ['topic0', 'topic1', 'topic2', 'topic3', 'topic4', 'topic5', 'topic6', 'topic7', 'topic8', 'topic9', 'topic10', 'topic11', 'topic12', 'topic13', 'topic14', 'topic15', 'topic16', 'topic17', 'topic18', 'topic19', 'topic20', 'topic21', 'topic22'] ',\n"
     ]
    }
   ],
   "source": [
    "col_name=[]\n",
    "for i in range(0, 23):\n",
    "    col_name.append('topic'+str(i))\n",
    "print(\"'\",col_name,\"',\")"
   ]
  },
  {
   "cell_type": "code",
   "execution_count": 35,
   "metadata": {},
   "outputs": [],
   "source": [
    "u = sentiment_df.iloc[10:31]\n",
    "v = sentiment_df[['score']]\n",
    "\n"
   ]
  },
  {
   "cell_type": "code",
   "execution_count": 36,
   "metadata": {},
   "outputs": [
    {
     "data": {
      "text/html": [
       "<div>\n",
       "<style scoped>\n",
       "    .dataframe tbody tr th:only-of-type {\n",
       "        vertical-align: middle;\n",
       "    }\n",
       "\n",
       "    .dataframe tbody tr th {\n",
       "        vertical-align: top;\n",
       "    }\n",
       "\n",
       "    .dataframe thead th {\n",
       "        text-align: right;\n",
       "    }\n",
       "</style>\n",
       "<table border=\"1\" class=\"dataframe\">\n",
       "  <thead>\n",
       "    <tr style=\"text-align: right;\">\n",
       "      <th></th>\n",
       "      <th>Org</th>\n",
       "      <th>OrgSector</th>\n",
       "      <th>RverMonthYear</th>\n",
       "      <th>RverReviewer</th>\n",
       "      <th>RverPosition</th>\n",
       "      <th>RverLoc</th>\n",
       "      <th>RverRecom</th>\n",
       "      <th>RvReviewAbout</th>\n",
       "      <th>RvScore</th>\n",
       "      <th>RvComment</th>\n",
       "      <th>...</th>\n",
       "      <th>topic14</th>\n",
       "      <th>topic15</th>\n",
       "      <th>topic16</th>\n",
       "      <th>topic17</th>\n",
       "      <th>topic18</th>\n",
       "      <th>topic19</th>\n",
       "      <th>topic20</th>\n",
       "      <th>topic21</th>\n",
       "      <th>score</th>\n",
       "      <th>summation</th>\n",
       "    </tr>\n",
       "  </thead>\n",
       "  <tbody>\n",
       "  </tbody>\n",
       "</table>\n",
       "<p>0 rows × 34 columns</p>\n",
       "</div>"
      ],
      "text/plain": [
       "Empty DataFrame\n",
       "Columns: [Org, OrgSector, RverMonthYear, RverReviewer, RverPosition, RverLoc, RverRecom, RvReviewAbout, RvScore, RvComment, topic0, topic1, topic2, topic3, topic4, topic5, topic6, topic7, topic8, topic9, topic10, topic11, topic12, topic13, topic14, topic15, topic16, topic17, topic18, topic19, topic20, topic21, score, summation]\n",
       "Index: []\n",
       "\n",
       "[0 rows x 34 columns]"
      ]
     },
     "execution_count": 36,
     "metadata": {},
     "output_type": "execute_result"
    }
   ],
   "source": [
    "u"
   ]
  },
  {
   "cell_type": "code",
   "execution_count": null,
   "metadata": {},
   "outputs": [],
   "source": []
  }
 ],
 "metadata": {
  "kernelspec": {
   "display_name": "Python 3",
   "language": "python",
   "name": "python3"
  },
  "language_info": {
   "codemirror_mode": {
    "name": "ipython",
    "version": 3
   },
   "file_extension": ".py",
   "mimetype": "text/x-python",
   "name": "python",
   "nbconvert_exporter": "python",
   "pygments_lexer": "ipython3",
   "version": "3.8.3"
  }
 },
 "nbformat": 4,
 "nbformat_minor": 4
}
