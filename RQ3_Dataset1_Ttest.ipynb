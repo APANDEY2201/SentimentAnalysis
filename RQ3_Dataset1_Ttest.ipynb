{
 "cells": [
  {
   "cell_type": "code",
   "execution_count": 1,
   "metadata": {},
   "outputs": [],
   "source": [
    "import pandas as pd\n",
    "pd.options.mode.chained_assignment = None \n",
    "import numpy as np\n",
    "import re\n",
    "import nltk\n",
    "import seaborn as sns\n",
    "#from gensim.models import word2vec\n",
    "from tqdm import tqdm\n",
    "from sklearn.manifold import TSNE\n",
    "import matplotlib.pyplot as plt\n",
    "from scipy import stats\n",
    "from scipy.stats import ttest_ind, ttest_ind_from_stats\n",
    "from scipy.special import stdtr\n",
    "import pandas as pd\n",
    "import pickle\n",
    "\n",
    "#pickle_file = open(\"RQ3_Input_Dataset2\",'rb')\n",
    "##--LDA File\n",
    "## forTSNE_Data_Cleaned_08092020_083631.df\n",
    "##forTSNE_Data_Cleaned_07092020_113759.df\n",
    "##--Sentiment file\n",
    "##FINAL_Dataset1_Pickle.data \n",
    "##FINAL_Dataset2_Pickle.data\n",
    "##RQ3_Input_Dataset1.data\n",
    "##RQ3_Input_Dataset2.data\n",
    "\n",
    "df = pd.read_pickle(\"RQ3_Input_Dataset1.data\")"
   ]
  },
  {
   "cell_type": "code",
   "execution_count": 2,
   "metadata": {},
   "outputs": [
    {
     "data": {
      "text/plain": [
       "60"
      ]
     },
     "execution_count": 2,
     "metadata": {},
     "output_type": "execute_result"
    }
   ],
   "source": [
    "pd.options.display.max_rows"
   ]
  },
  {
   "cell_type": "code",
   "execution_count": 3,
   "metadata": {},
   "outputs": [
    {
     "data": {
      "text/html": [
       "<div>\n",
       "<style scoped>\n",
       "    .dataframe tbody tr th:only-of-type {\n",
       "        vertical-align: middle;\n",
       "    }\n",
       "\n",
       "    .dataframe tbody tr th {\n",
       "        vertical-align: top;\n",
       "    }\n",
       "\n",
       "    .dataframe thead th {\n",
       "        text-align: right;\n",
       "    }\n",
       "</style>\n",
       "<table border=\"1\" class=\"dataframe\">\n",
       "  <thead>\n",
       "    <tr style=\"text-align: right;\">\n",
       "      <th></th>\n",
       "      <th>Org</th>\n",
       "      <th>OrgSector</th>\n",
       "      <th>RverMonthYear</th>\n",
       "      <th>RverReviewer</th>\n",
       "      <th>RverPosition</th>\n",
       "      <th>RverLoc</th>\n",
       "      <th>RverRecom</th>\n",
       "      <th>RvReviewAbout</th>\n",
       "      <th>RvScore</th>\n",
       "      <th>RvComment</th>\n",
       "      <th>...</th>\n",
       "      <th>featureSentiScoreBool</th>\n",
       "      <th>featureSentiScorenormalized</th>\n",
       "      <th>RvScoreScaled</th>\n",
       "      <th>RvScoreWorkAtmosphereScaled</th>\n",
       "      <th>RvScoreCohesionAmongColleaguesScaled</th>\n",
       "      <th>RvScoreEqualRightsScaled</th>\n",
       "      <th>RvScoreDealingWithOlderColleaguesScaled</th>\n",
       "      <th>RvScoreEnvironmentalSocialAwarenessScaled</th>\n",
       "      <th>RvScoreWorkLifeBalanceScaled</th>\n",
       "      <th>Mean_value</th>\n",
       "    </tr>\n",
       "  </thead>\n",
       "  <tbody>\n",
       "    <tr>\n",
       "      <th>1</th>\n",
       "      <td>Instone Real Estate Group AG</td>\n",
       "      <td>Immobilien</td>\n",
       "      <td>May 2020</td>\n",
       "      <td>1</td>\n",
       "      <td>Führungskraft / Management</td>\n",
       "      <td>Hat zum Zeitpunkt der Bewertung im Bereich Fin...</td>\n",
       "      <td>Empfohlen</td>\n",
       "      <td>Overall</td>\n",
       "      <td>4.9</td>\n",
       "      <td>Top Arbeitgeber mit vielen Benefiz      Trans...</td>\n",
       "      <td>...</td>\n",
       "      <td>1.0</td>\n",
       "      <td>0.038507</td>\n",
       "      <td>0.98</td>\n",
       "      <td>1.0</td>\n",
       "      <td>0.8</td>\n",
       "      <td>1.0</td>\n",
       "      <td>1.0</td>\n",
       "      <td>1.0</td>\n",
       "      <td>1.0</td>\n",
       "      <td>4.842857</td>\n",
       "    </tr>\n",
       "    <tr>\n",
       "      <th>2</th>\n",
       "      <td>Instone Real Estate Group AG</td>\n",
       "      <td>Immobilien</td>\n",
       "      <td>May 2020</td>\n",
       "      <td>2</td>\n",
       "      <td>Angestellte/r oder Arbeiter/in</td>\n",
       "      <td>Hat zum Zeitpunkt der Bewertung im Bereich Rec...</td>\n",
       "      <td>Empfohlen</td>\n",
       "      <td>Overall</td>\n",
       "      <td>4.9</td>\n",
       "      <td>Vorbildlicher Arbeitgeber     Nur die Mülltre...</td>\n",
       "      <td>...</td>\n",
       "      <td>0.0</td>\n",
       "      <td>-0.029961</td>\n",
       "      <td>0.98</td>\n",
       "      <td>1.0</td>\n",
       "      <td>1.0</td>\n",
       "      <td>1.0</td>\n",
       "      <td>1.0</td>\n",
       "      <td>0.8</td>\n",
       "      <td>1.0</td>\n",
       "      <td>4.842857</td>\n",
       "    </tr>\n",
       "    <tr>\n",
       "      <th>3</th>\n",
       "      <td>Instone Real Estate Group AG</td>\n",
       "      <td>Immobilien</td>\n",
       "      <td>May 2020</td>\n",
       "      <td>3</td>\n",
       "      <td>Angestellte/r oder Arbeiter/in</td>\n",
       "      <td>Hat zum Zeitpunkt der Bewertung im Bereich Adm...</td>\n",
       "      <td>Empfohlen</td>\n",
       "      <td>Overall</td>\n",
       "      <td>4.5</td>\n",
       "      <td>Wenn Transparenz und Wertschätzung aufeinande...</td>\n",
       "      <td>...</td>\n",
       "      <td>1.0</td>\n",
       "      <td>0.345304</td>\n",
       "      <td>0.90</td>\n",
       "      <td>1.0</td>\n",
       "      <td>1.0</td>\n",
       "      <td>4.7</td>\n",
       "      <td>1.0</td>\n",
       "      <td>4.7</td>\n",
       "      <td>0.8</td>\n",
       "      <td>4.700000</td>\n",
       "    </tr>\n",
       "    <tr>\n",
       "      <th>4</th>\n",
       "      <td>Instone Real Estate Group AG</td>\n",
       "      <td>Immobilien</td>\n",
       "      <td>October 2019</td>\n",
       "      <td>4</td>\n",
       "      <td>Ex-Angestellte/r oder Arbeiter/in</td>\n",
       "      <td>Hat im Bereich Personal / Aus- und Weiterbildu...</td>\n",
       "      <td>Nicht empfohlen</td>\n",
       "      <td>Overall</td>\n",
       "      <td>3.2</td>\n",
       "      <td>Anspruch und Wirklichkeit klaffen auseinander...</td>\n",
       "      <td>...</td>\n",
       "      <td>1.0</td>\n",
       "      <td>0.028910</td>\n",
       "      <td>0.64</td>\n",
       "      <td>0.6</td>\n",
       "      <td>0.6</td>\n",
       "      <td>0.6</td>\n",
       "      <td>0.8</td>\n",
       "      <td>0.4</td>\n",
       "      <td>0.6</td>\n",
       "      <td>3.028571</td>\n",
       "    </tr>\n",
       "    <tr>\n",
       "      <th>5</th>\n",
       "      <td>Instone Real Estate Group AG</td>\n",
       "      <td>Immobilien</td>\n",
       "      <td>October 2019</td>\n",
       "      <td>5</td>\n",
       "      <td>Führungskraft / Management</td>\n",
       "      <td>Hat zum Zeitpunkt der Bewertung bei Instone Re...</td>\n",
       "      <td>Empfohlen</td>\n",
       "      <td>Overall</td>\n",
       "      <td>4.8</td>\n",
       "      <td>Toller Arbeitgeber  Tolle Truppe  Auch bei lä...</td>\n",
       "      <td>...</td>\n",
       "      <td>1.0</td>\n",
       "      <td>0.012521</td>\n",
       "      <td>0.96</td>\n",
       "      <td>1.0</td>\n",
       "      <td>1.0</td>\n",
       "      <td>1.0</td>\n",
       "      <td>1.0</td>\n",
       "      <td>1.0</td>\n",
       "      <td>0.8</td>\n",
       "      <td>4.828571</td>\n",
       "    </tr>\n",
       "  </tbody>\n",
       "</table>\n",
       "<p>5 rows × 98 columns</p>\n",
       "</div>"
      ],
      "text/plain": [
       "                            Org   OrgSector RverMonthYear RverReviewer  \\\n",
       "1  Instone Real Estate Group AG  Immobilien      May 2020            1   \n",
       "2  Instone Real Estate Group AG  Immobilien      May 2020            2   \n",
       "3  Instone Real Estate Group AG  Immobilien      May 2020            3   \n",
       "4  Instone Real Estate Group AG  Immobilien  October 2019            4   \n",
       "5  Instone Real Estate Group AG  Immobilien  October 2019            5   \n",
       "\n",
       "                        RverPosition  \\\n",
       "1         Führungskraft / Management   \n",
       "2     Angestellte/r oder Arbeiter/in   \n",
       "3     Angestellte/r oder Arbeiter/in   \n",
       "4  Ex-Angestellte/r oder Arbeiter/in   \n",
       "5         Führungskraft / Management   \n",
       "\n",
       "                                             RverLoc        RverRecom  \\\n",
       "1  Hat zum Zeitpunkt der Bewertung im Bereich Fin...        Empfohlen   \n",
       "2  Hat zum Zeitpunkt der Bewertung im Bereich Rec...        Empfohlen   \n",
       "3  Hat zum Zeitpunkt der Bewertung im Bereich Adm...        Empfohlen   \n",
       "4  Hat im Bereich Personal / Aus- und Weiterbildu...  Nicht empfohlen   \n",
       "5  Hat zum Zeitpunkt der Bewertung bei Instone Re...        Empfohlen   \n",
       "\n",
       "  RvReviewAbout  RvScore                                          RvComment  \\\n",
       "1       Overall      4.9   Top Arbeitgeber mit vielen Benefiz      Trans...   \n",
       "2       Overall      4.9   Vorbildlicher Arbeitgeber     Nur die Mülltre...   \n",
       "3       Overall      4.5   Wenn Transparenz und Wertschätzung aufeinande...   \n",
       "4       Overall      3.2   Anspruch und Wirklichkeit klaffen auseinander...   \n",
       "5       Overall      4.8   Toller Arbeitgeber  Tolle Truppe  Auch bei lä...   \n",
       "\n",
       "   ...  featureSentiScoreBool  featureSentiScorenormalized  RvScoreScaled  \\\n",
       "1  ...                    1.0                     0.038507           0.98   \n",
       "2  ...                    0.0                    -0.029961           0.98   \n",
       "3  ...                    1.0                     0.345304           0.90   \n",
       "4  ...                    1.0                     0.028910           0.64   \n",
       "5  ...                    1.0                     0.012521           0.96   \n",
       "\n",
       "   RvScoreWorkAtmosphereScaled  RvScoreCohesionAmongColleaguesScaled  \\\n",
       "1                          1.0                                   0.8   \n",
       "2                          1.0                                   1.0   \n",
       "3                          1.0                                   1.0   \n",
       "4                          0.6                                   0.6   \n",
       "5                          1.0                                   1.0   \n",
       "\n",
       "  RvScoreEqualRightsScaled RvScoreDealingWithOlderColleaguesScaled  \\\n",
       "1                      1.0                                     1.0   \n",
       "2                      1.0                                     1.0   \n",
       "3                      4.7                                     1.0   \n",
       "4                      0.6                                     0.8   \n",
       "5                      1.0                                     1.0   \n",
       "\n",
       "  RvScoreEnvironmentalSocialAwarenessScaled  RvScoreWorkLifeBalanceScaled  \\\n",
       "1                                       1.0                           1.0   \n",
       "2                                       0.8                           1.0   \n",
       "3                                       4.7                           0.8   \n",
       "4                                       0.4                           0.6   \n",
       "5                                       1.0                           0.8   \n",
       "\n",
       "   Mean_value  \n",
       "1    4.842857  \n",
       "2    4.842857  \n",
       "3    4.700000  \n",
       "4    3.028571  \n",
       "5    4.828571  \n",
       "\n",
       "[5 rows x 98 columns]"
      ]
     },
     "execution_count": 3,
     "metadata": {},
     "output_type": "execute_result"
    }
   ],
   "source": [
    "df.head(5)"
   ]
  },
  {
   "cell_type": "code",
   "execution_count": 4,
   "metadata": {},
   "outputs": [
    {
     "data": {
      "text/plain": [
       "array(['Immobilien', 'Elektro/Elektronik', 'Sonstige Branchen',\n",
       "       'Maschinenbau', 'Handel', 'Internet', 'Medizin/Pharma', 'IT',\n",
       "       'Automobil', 'Industrie', 'Dienstleistung', 'Energie',\n",
       "       'Marketing/Werbung/PR', 'Nahrungsmittel/Landwirtschaft', 'Chemie',\n",
       "       'Finanz', 'Banken', 'Transport/Verkehr/Logistik',\n",
       "       'Telekommunikation', 'Bau/Architektur', 'Versicherung',\n",
       "       'Kunst/Kultur', 'Textil', ' Immobilien', 'Medien',\n",
       "       'Personalwesen & -beschaffung', ' Industrie', 'Sport/Beauty',\n",
       "       'Druck/Verpackung', 'Medizintechnik', 'Forschung/Entwicklung',\n",
       "       'Beratung/Consulting'], dtype=object)"
      ]
     },
     "execution_count": 4,
     "metadata": {},
     "output_type": "execute_result"
    }
   ],
   "source": [
    "df.OrgSector.unique()"
   ]
  },
  {
   "cell_type": "code",
   "execution_count": 5,
   "metadata": {},
   "outputs": [],
   "source": [
    "conditions = [(df[\"OrgSector\"] == 'Immobilien'),\n",
    "              (df[\"OrgSector\"] == 'Elektro/Elektronik'),\n",
    "              (df[\"OrgSector\"] == 'Sonstige Branchen'),\n",
    "              (df[\"OrgSector\"] == 'Maschinenbau'),\n",
    "              (df[\"OrgSector\"] == 'Handel'),\n",
    "              (df[\"OrgSector\"] == 'Internet'),\n",
    "              (df[\"OrgSector\"] == 'Medizin/Pharma'),\n",
    "              (df[\"OrgSector\"] == 'IT'),\n",
    "              (df[\"OrgSector\"] == 'Automobil'),\n",
    "              (df[\"OrgSector\"] == 'Industrie'),\n",
    "              (df[\"OrgSector\"] == 'Dienstleistung'),\n",
    "              (df[\"OrgSector\"] == 'Energie'),\n",
    "              (df[\"OrgSector\"] == 'Marketing/Werbung/PR'),\n",
    "              (df[\"OrgSector\"] == 'Nahrungsmittel/Landwirtschaft'),              \n",
    "              (df[\"OrgSector\"] == 'Chemie'),\n",
    "              (df[\"OrgSector\"] == 'Finanz'),\n",
    "              (df[\"OrgSector\"] == 'Banken'),\n",
    "              (df[\"OrgSector\"] == 'Transport/Verkehr/Logistik'),\n",
    "              (df[\"OrgSector\"] == 'Telekommunikation'),\n",
    "              (df[\"OrgSector\"] == 'Bau/Architektur'),\n",
    "              (df[\"OrgSector\"] == 'Versicherung'),\n",
    "              (df[\"OrgSector\"] == 'Kunst/Kultur'),\n",
    "              (df[\"OrgSector\"] == 'Textil'),\n",
    "              (df[\"OrgSector\"] == ' Immobilien'),\n",
    "              (df[\"OrgSector\"] == 'Medien'),\n",
    "              (df[\"OrgSector\"] == 'Personalwesen & -beschaffung'),\n",
    "              (df[\"OrgSector\"] == ' Industrie'),\n",
    "              (df[\"OrgSector\"] == 'Sport/Beauty'),\n",
    "              (df[\"OrgSector\"] == 'Druck/Verpackung'),\n",
    "              (df[\"OrgSector\"] == 'Medizintechnik'),\n",
    "              (df[\"OrgSector\"] == 'Forschung/Entwicklung'),\n",
    "              (df[\"OrgSector\"] == 'Beratung/Consulting')\n",
    "              ]\n",
    "choices_NewOrgSector = ['Finance, Insurance, Real Estate', 'Manufacturing', 'Others', 'Manufacturing', 'Retail Trade',\n",
    "                        'Services','Manufacturing','Manufacturing','Manufacturing','Manufacturing','Services',\n",
    "                        'Transportation & Public Utilities','Services','Agriculture, Forestry, Fishing','Manufacturing',\n",
    "                        'Finance, Insurance, Real Estate','Finance, Insurance, Real Estate','Transportation & Public Utilities',\n",
    "                        'Transportation & Public Utilities','Construction','Finance, Insurance, Real Estate','Services',\n",
    "                        'Manufacturing','Finance, Insurance, Real Estate','Services','Services','Manufacturing',\n",
    "                        'Services','Manufacturing','Manufacturing','Services','Services']\n",
    "df[\"NewOrgSector\"] = np.select(conditions, choices_NewOrgSector, default='NaN')"
   ]
  },
  {
   "cell_type": "code",
   "execution_count": 6,
   "metadata": {},
   "outputs": [
    {
     "data": {
      "text/plain": [
       "Index(['Org', 'OrgSector', 'RverMonthYear', 'RverReviewer', 'RverPosition',\n",
       "       'RverLoc', 'RverRecom', 'RvReviewAbout', 'RvScore', 'RvComment',\n",
       "       'RvScoreWorkAtmosphere', 'RvScoreCohesionAmongColleagues',\n",
       "       'RvScoreEqualRights', 'RvScoreDealingWithOlderColleagues',\n",
       "       'RvScoreEnvironmentalSocialAwareness', 'Corona1', 'Corona2', 'Corona3',\n",
       "       'RvScoreWorkLifeBalance', 'topic0', 'topic1', 'topic2', 'topic3',\n",
       "       'topic4', 'topic5', 'topic6', 'topic7', 'topic8', 'topic9', 'topic10',\n",
       "       'topic11', 'topic12', 'topic13', 'topic14', 'topic15', 'topic16',\n",
       "       'topic17', 'forTSNEYear', 'forTSNECity', 'topic0_max', 'topic1_max',\n",
       "       'topic2_max', 'topic3_max', 'topic4_max', 'topic5_max', 'topic6_max',\n",
       "       'topic7_max', 'topic8_max', 'topic9_max', 'topic10_max', 'topic11_max',\n",
       "       'topic12_max', 'topic13_max', 'topic14_max', 'topic15_max',\n",
       "       'topic16_max', 'topic17_max', 'score101', 'topicXmaxboolXcss0',\n",
       "       'topicXmaxboolXcss1', 'topicXmaxboolXcss2', 'topicXmaxboolXcss3',\n",
       "       'topicXmaxboolXcss4', 'topicXmaxboolXcss5', 'topicXmaxboolXcss6',\n",
       "       'topicXmaxboolXcss7', 'topicXmaxboolXcss8', 'topicXmaxboolXcss9',\n",
       "       'topicXmaxboolXcss10', 'topicXmaxboolXcss11', 'topicXmaxboolXcss12',\n",
       "       'topicXmaxboolXcss13', 'topicXmaxboolXcss14', 'topicXmaxboolXcss15',\n",
       "       'topicXmaxboolXcss16', 'topicXmaxboolXcss17', 'NewRverCategory',\n",
       "       'PreviousVsCurrentFlag', 'NewRverCategory_Employee',\n",
       "       'NewRverCategory_Management', 'NewRverCategory_Qualification',\n",
       "       'NewRverCategory_TemporaryEmployed', 'featureYear', 'state',\n",
       "       'featureState', 'featurePosition', 'featureOrg', 'featureRecom',\n",
       "       'featureSentiScoreBool', 'featureSentiScorenormalized', 'RvScoreScaled',\n",
       "       'RvScoreWorkAtmosphereScaled', 'RvScoreCohesionAmongColleaguesScaled',\n",
       "       'RvScoreEqualRightsScaled', 'RvScoreDealingWithOlderColleaguesScaled',\n",
       "       'RvScoreEnvironmentalSocialAwarenessScaled',\n",
       "       'RvScoreWorkLifeBalanceScaled', 'Mean_value', 'NewOrgSector'],\n",
       "      dtype='object')"
      ]
     },
     "execution_count": 6,
     "metadata": {},
     "output_type": "execute_result"
    }
   ],
   "source": [
    "df.columns"
   ]
  },
  {
   "cell_type": "code",
   "execution_count": 7,
   "metadata": {},
   "outputs": [
    {
     "data": {
      "text/plain": [
       "Manufacturing                        11091\n",
       "Transportation & Public Utilities     3221\n",
       "Services                              2808\n",
       "Finance, Insurance, Real Estate       2514\n",
       "Retail Trade                          1044\n",
       "Others                                 153\n",
       "Construction                            94\n",
       "Agriculture, Forestry, Fishing          72\n",
       "Name: NewOrgSector, dtype: int64"
      ]
     },
     "execution_count": 7,
     "metadata": {},
     "output_type": "execute_result"
    }
   ],
   "source": [
    "df['NewOrgSector'].value_counts()"
   ]
  },
  {
   "cell_type": "code",
   "execution_count": 8,
   "metadata": {},
   "outputs": [],
   "source": [
    "df_Manufacturing = df[df['NewOrgSector'] == 'Manufacturing']\n",
    "df_Transportation = df[df['NewOrgSector'] == 'Transportation & Public Utilities']\n",
    "df_Services = df[df['NewOrgSector'] == 'Services']\n",
    "df_Finance = df[df['NewOrgSector'] == 'Finance, Insurance, Real Estate']\n",
    "df_Retail  = df[df['NewOrgSector'] == 'Retail Trade']\n",
    "df_Others = df[df['NewOrgSector'] == 'Others']\n",
    "df_Construction = df[df['NewOrgSector'] == 'Construction']\n",
    "df_Agriculture = df[df['NewOrgSector'] == 'Agriculture, Forestry, Fishing']\n",
    "\n",
    "listOfDataframe = [df_Manufacturing, df_Transportation, df_Services, df_Finance, df_Retail, df_Others, df_Construction, df_Agriculture]\n",
    "#gapminder_2002 = gapminder[gapminder['year']==2002]"
   ]
  },
  {
   "cell_type": "code",
   "execution_count": 9,
   "metadata": {},
   "outputs": [],
   "source": [
    "def calculate_pValue(df_Manufacturing, df_Construction):\n",
    "    df_Construction =df_Construction.loc[:,'RvScore']\n",
    "    #params = np.append(lm.intercept, lm.coef)\n",
    "    #predictions = lm.predict(train_x_)\n",
    "    \n",
    "    dfnewX = pd.DataFrame({\"Constant\": np.ones(len(df_Manufacturing))}).join(pd.DataFrame(df_Manufacturing))\n",
    "    MSE = (sum((df_Construction - predictions) ** 2)) / (len(dfnewX) - len(dfnewX.columns))\n",
    "\n",
    "    # Note if you don't want to use a DataFrame replace the two lines above with\n",
    "    # newX = np.append(np.ones((len(X),1)), X, axis=1)\n",
    "    # MSE = (sum((y-predictions)**2))/(len(newX)-len(newX[0]))\n",
    "\n",
    "    #var_b = variance\n",
    "    print(\"---------------dfnewX-----------------\")\n",
    "    print(dfnewX)\n",
    "    var_b = MSE * (np.linalg.inv(np.dot(dfnewX.T, dfnewX)).diagonal())\n",
    "    sd_b = np.sqrt(var_b)\n",
    "    ts_b = params / sd_b\n",
    "    print(\"==(len(dfnewX) - len(dfnewX[0])== :: \", (len(dfnewX) - 1))\n",
    "    p_values = [2 * (1 - stats.t.cdf(np.abs(i), (len(dfnewX) - 1))) for i in ts_b]\n",
    "\n",
    "\n",
    "    sd_b = np.round(sd_b, 3)\n",
    "    ts_b = np.round(ts_b, 3)\n",
    "    p_values = np.round(p_values, 3)\n",
    "    params = np.round(params, 4)\n",
    "\n",
    "    myDF3 = pd.DataFrame()\n",
    "    myDF3[\"Coefficients\"], myDF3[\"Standard Errors\"], myDF3[\"tvalues\"], myDF3[\"Probabilities\"] = [params, sd_b, ts_b,\n",
    "                                                                                                  p_values]\n",
    "    #print(myDF3)\n",
    "    return myDF3.loc[1:, \"Probabilities\"], myDF3.loc[1:, \"tvalues\"]"
   ]
  },
  {
   "cell_type": "code",
   "execution_count": 10,
   "metadata": {},
   "outputs": [
    {
     "ename": "KeyError",
     "evalue": "'topic18'",
     "output_type": "error",
     "traceback": [
      "\u001b[1;31m---------------------------------------------------------------------------\u001b[0m",
      "\u001b[1;31mKeyError\u001b[0m                                  Traceback (most recent call last)",
      "\u001b[1;32m~\\anaconda3\\lib\\site-packages\\pandas\\core\\indexes\\base.py\u001b[0m in \u001b[0;36mget_loc\u001b[1;34m(self, key, method, tolerance)\u001b[0m\n\u001b[0;32m   2645\u001b[0m             \u001b[1;32mtry\u001b[0m\u001b[1;33m:\u001b[0m\u001b[1;33m\u001b[0m\u001b[1;33m\u001b[0m\u001b[0m\n\u001b[1;32m-> 2646\u001b[1;33m                 \u001b[1;32mreturn\u001b[0m \u001b[0mself\u001b[0m\u001b[1;33m.\u001b[0m\u001b[0m_engine\u001b[0m\u001b[1;33m.\u001b[0m\u001b[0mget_loc\u001b[0m\u001b[1;33m(\u001b[0m\u001b[0mkey\u001b[0m\u001b[1;33m)\u001b[0m\u001b[1;33m\u001b[0m\u001b[1;33m\u001b[0m\u001b[0m\n\u001b[0m\u001b[0;32m   2647\u001b[0m             \u001b[1;32mexcept\u001b[0m \u001b[0mKeyError\u001b[0m\u001b[1;33m:\u001b[0m\u001b[1;33m\u001b[0m\u001b[1;33m\u001b[0m\u001b[0m\n",
      "\u001b[1;32mpandas\\_libs\\index.pyx\u001b[0m in \u001b[0;36mpandas._libs.index.IndexEngine.get_loc\u001b[1;34m()\u001b[0m\n",
      "\u001b[1;32mpandas\\_libs\\index.pyx\u001b[0m in \u001b[0;36mpandas._libs.index.IndexEngine.get_loc\u001b[1;34m()\u001b[0m\n",
      "\u001b[1;32mpandas\\_libs\\hashtable_class_helper.pxi\u001b[0m in \u001b[0;36mpandas._libs.hashtable.PyObjectHashTable.get_item\u001b[1;34m()\u001b[0m\n",
      "\u001b[1;32mpandas\\_libs\\hashtable_class_helper.pxi\u001b[0m in \u001b[0;36mpandas._libs.hashtable.PyObjectHashTable.get_item\u001b[1;34m()\u001b[0m\n",
      "\u001b[1;31mKeyError\u001b[0m: 'topic18'",
      "\nDuring handling of the above exception, another exception occurred:\n",
      "\u001b[1;31mKeyError\u001b[0m                                  Traceback (most recent call last)",
      "\u001b[1;32m<ipython-input-10-2cd219aeabb1>\u001b[0m in \u001b[0;36m<module>\u001b[1;34m\u001b[0m\n\u001b[0;32m      3\u001b[0m         \u001b[1;32mcontinue\u001b[0m\u001b[1;33m\u001b[0m\u001b[1;33m\u001b[0m\u001b[0m\n\u001b[0;32m      4\u001b[0m     \u001b[0mcol_name\u001b[0m \u001b[1;33m=\u001b[0m \u001b[1;34m'topic'\u001b[0m \u001b[1;33m+\u001b[0m \u001b[0mstr\u001b[0m\u001b[1;33m(\u001b[0m\u001b[0mi\u001b[0m\u001b[1;33m)\u001b[0m\u001b[1;33m\u001b[0m\u001b[1;33m\u001b[0m\u001b[0m\n\u001b[1;32m----> 5\u001b[1;33m     \u001b[0mdf_Manufacturing\u001b[0m\u001b[1;33m[\u001b[0m\u001b[1;34m'col_name'\u001b[0m\u001b[1;33m]\u001b[0m \u001b[1;33m=\u001b[0m \u001b[0mdf_Manufacturing\u001b[0m\u001b[1;33m[\u001b[0m\u001b[0mcol_name\u001b[0m\u001b[1;33m]\u001b[0m\u001b[1;33m\u001b[0m\u001b[1;33m\u001b[0m\u001b[0m\n\u001b[0m\u001b[0;32m      6\u001b[0m \u001b[1;33m\u001b[0m\u001b[0m\n\u001b[0;32m      7\u001b[0m \u001b[0mdf_Manufacturing\u001b[0m\u001b[1;33m[\u001b[0m\u001b[1;34m'col_name'\u001b[0m\u001b[1;33m]\u001b[0m\u001b[1;33m\u001b[0m\u001b[1;33m\u001b[0m\u001b[0m\n",
      "\u001b[1;32m~\\anaconda3\\lib\\site-packages\\pandas\\core\\frame.py\u001b[0m in \u001b[0;36m__getitem__\u001b[1;34m(self, key)\u001b[0m\n\u001b[0;32m   2798\u001b[0m             \u001b[1;32mif\u001b[0m \u001b[0mself\u001b[0m\u001b[1;33m.\u001b[0m\u001b[0mcolumns\u001b[0m\u001b[1;33m.\u001b[0m\u001b[0mnlevels\u001b[0m \u001b[1;33m>\u001b[0m \u001b[1;36m1\u001b[0m\u001b[1;33m:\u001b[0m\u001b[1;33m\u001b[0m\u001b[1;33m\u001b[0m\u001b[0m\n\u001b[0;32m   2799\u001b[0m                 \u001b[1;32mreturn\u001b[0m \u001b[0mself\u001b[0m\u001b[1;33m.\u001b[0m\u001b[0m_getitem_multilevel\u001b[0m\u001b[1;33m(\u001b[0m\u001b[0mkey\u001b[0m\u001b[1;33m)\u001b[0m\u001b[1;33m\u001b[0m\u001b[1;33m\u001b[0m\u001b[0m\n\u001b[1;32m-> 2800\u001b[1;33m             \u001b[0mindexer\u001b[0m \u001b[1;33m=\u001b[0m \u001b[0mself\u001b[0m\u001b[1;33m.\u001b[0m\u001b[0mcolumns\u001b[0m\u001b[1;33m.\u001b[0m\u001b[0mget_loc\u001b[0m\u001b[1;33m(\u001b[0m\u001b[0mkey\u001b[0m\u001b[1;33m)\u001b[0m\u001b[1;33m\u001b[0m\u001b[1;33m\u001b[0m\u001b[0m\n\u001b[0m\u001b[0;32m   2801\u001b[0m             \u001b[1;32mif\u001b[0m \u001b[0mis_integer\u001b[0m\u001b[1;33m(\u001b[0m\u001b[0mindexer\u001b[0m\u001b[1;33m)\u001b[0m\u001b[1;33m:\u001b[0m\u001b[1;33m\u001b[0m\u001b[1;33m\u001b[0m\u001b[0m\n\u001b[0;32m   2802\u001b[0m                 \u001b[0mindexer\u001b[0m \u001b[1;33m=\u001b[0m \u001b[1;33m[\u001b[0m\u001b[0mindexer\u001b[0m\u001b[1;33m]\u001b[0m\u001b[1;33m\u001b[0m\u001b[1;33m\u001b[0m\u001b[0m\n",
      "\u001b[1;32m~\\anaconda3\\lib\\site-packages\\pandas\\core\\indexes\\base.py\u001b[0m in \u001b[0;36mget_loc\u001b[1;34m(self, key, method, tolerance)\u001b[0m\n\u001b[0;32m   2646\u001b[0m                 \u001b[1;32mreturn\u001b[0m \u001b[0mself\u001b[0m\u001b[1;33m.\u001b[0m\u001b[0m_engine\u001b[0m\u001b[1;33m.\u001b[0m\u001b[0mget_loc\u001b[0m\u001b[1;33m(\u001b[0m\u001b[0mkey\u001b[0m\u001b[1;33m)\u001b[0m\u001b[1;33m\u001b[0m\u001b[1;33m\u001b[0m\u001b[0m\n\u001b[0;32m   2647\u001b[0m             \u001b[1;32mexcept\u001b[0m \u001b[0mKeyError\u001b[0m\u001b[1;33m:\u001b[0m\u001b[1;33m\u001b[0m\u001b[1;33m\u001b[0m\u001b[0m\n\u001b[1;32m-> 2648\u001b[1;33m                 \u001b[1;32mreturn\u001b[0m \u001b[0mself\u001b[0m\u001b[1;33m.\u001b[0m\u001b[0m_engine\u001b[0m\u001b[1;33m.\u001b[0m\u001b[0mget_loc\u001b[0m\u001b[1;33m(\u001b[0m\u001b[0mself\u001b[0m\u001b[1;33m.\u001b[0m\u001b[0m_maybe_cast_indexer\u001b[0m\u001b[1;33m(\u001b[0m\u001b[0mkey\u001b[0m\u001b[1;33m)\u001b[0m\u001b[1;33m)\u001b[0m\u001b[1;33m\u001b[0m\u001b[1;33m\u001b[0m\u001b[0m\n\u001b[0m\u001b[0;32m   2649\u001b[0m         \u001b[0mindexer\u001b[0m \u001b[1;33m=\u001b[0m \u001b[0mself\u001b[0m\u001b[1;33m.\u001b[0m\u001b[0mget_indexer\u001b[0m\u001b[1;33m(\u001b[0m\u001b[1;33m[\u001b[0m\u001b[0mkey\u001b[0m\u001b[1;33m]\u001b[0m\u001b[1;33m,\u001b[0m \u001b[0mmethod\u001b[0m\u001b[1;33m=\u001b[0m\u001b[0mmethod\u001b[0m\u001b[1;33m,\u001b[0m \u001b[0mtolerance\u001b[0m\u001b[1;33m=\u001b[0m\u001b[0mtolerance\u001b[0m\u001b[1;33m)\u001b[0m\u001b[1;33m\u001b[0m\u001b[1;33m\u001b[0m\u001b[0m\n\u001b[0;32m   2650\u001b[0m         \u001b[1;32mif\u001b[0m \u001b[0mindexer\u001b[0m\u001b[1;33m.\u001b[0m\u001b[0mndim\u001b[0m \u001b[1;33m>\u001b[0m \u001b[1;36m1\u001b[0m \u001b[1;32mor\u001b[0m \u001b[0mindexer\u001b[0m\u001b[1;33m.\u001b[0m\u001b[0msize\u001b[0m \u001b[1;33m>\u001b[0m \u001b[1;36m1\u001b[0m\u001b[1;33m:\u001b[0m\u001b[1;33m\u001b[0m\u001b[1;33m\u001b[0m\u001b[0m\n",
      "\u001b[1;32mpandas\\_libs\\index.pyx\u001b[0m in \u001b[0;36mpandas._libs.index.IndexEngine.get_loc\u001b[1;34m()\u001b[0m\n",
      "\u001b[1;32mpandas\\_libs\\index.pyx\u001b[0m in \u001b[0;36mpandas._libs.index.IndexEngine.get_loc\u001b[1;34m()\u001b[0m\n",
      "\u001b[1;32mpandas\\_libs\\hashtable_class_helper.pxi\u001b[0m in \u001b[0;36mpandas._libs.hashtable.PyObjectHashTable.get_item\u001b[1;34m()\u001b[0m\n",
      "\u001b[1;32mpandas\\_libs\\hashtable_class_helper.pxi\u001b[0m in \u001b[0;36mpandas._libs.hashtable.PyObjectHashTable.get_item\u001b[1;34m()\u001b[0m\n",
      "\u001b[1;31mKeyError\u001b[0m: 'topic18'"
     ]
    }
   ],
   "source": [
    "for i in range(0, 23):\n",
    "    if i in [12, 20, 22]:\n",
    "        continue\n",
    "    col_name = 'topic' + str(i)\n",
    "    df_Manufacturing['col_name'] = df_Manufacturing[col_name]\n",
    "    \n",
    "df_Manufacturing['col_name']"
   ]
  },
  {
   "cell_type": "code",
   "execution_count": null,
   "metadata": {},
   "outputs": [],
   "source": [
    "pd.set_option('display.max_columns', None)\n",
    "df_Manufacturing.head()"
   ]
  },
  {
   "cell_type": "code",
   "execution_count": null,
   "metadata": {},
   "outputs": [],
   "source": [
    "noOfTopics = 0\n",
    "\n",
    "for name in df_Manufacturing.loc[:,'topic0':'topic22']:\n",
    "    if 'topic' in name:\n",
    "        noOfTopics +=1"
   ]
  },
  {
   "cell_type": "code",
   "execution_count": 11,
   "metadata": {},
   "outputs": [
    {
     "data": {
      "text/plain": [
       "array([0.0128206 , 0.02632147, 0.01724143, ..., 0.        , 0.02083407,\n",
       "       0.01724144])"
      ]
     },
     "execution_count": 11,
     "metadata": {},
     "output_type": "execute_result"
    }
   ],
   "source": [
    "#arr = df.to_numpy()\n",
    "arr_df_Manufacturing_topic0 = df_Manufacturing[\"topic0\"].to_numpy()\n",
    "arr_df_Manufacturing_topic0"
   ]
  },
  {
   "cell_type": "code",
   "execution_count": 12,
   "metadata": {},
   "outputs": [
    {
     "data": {
      "text/plain": [
       "array([0.0128206 , 0.01724147, 0.08467849, ..., 0.03571429, 0.01470593,\n",
       "       0.3928569 ])"
      ]
     },
     "execution_count": 12,
     "metadata": {},
     "output_type": "execute_result"
    }
   ],
   "source": [
    "#arr = df.to_numpy()\n",
    "\n",
    "arr_df_Services_topic0 = df_Services[\"topic0\"].to_numpy()\n",
    "arr_df_Services_topic0"
   ]
  },
  {
   "cell_type": "code",
   "execution_count": 13,
   "metadata": {},
   "outputs": [
    {
     "data": {
      "text/plain": [
       "Ttest_indResult(statistic=1.5503102468831935, pvalue=0.1210898403857845)"
      ]
     },
     "execution_count": 13,
     "metadata": {},
     "output_type": "execute_result"
    }
   ],
   "source": [
    "# Use scipy.stats.ttest_ind_from_stats.\n",
    "stats.ttest_ind(arr_df_Manufacturing_topic0, arr_df_Services_topic0)\n"
   ]
  },
  {
   "cell_type": "code",
   "execution_count": 14,
   "metadata": {},
   "outputs": [],
   "source": [
    "def starTeller(_value):\n",
    "    if _value == 0:\n",
    "        return '*****'\n",
    "    if _value > 0 and _value <=0.001:\n",
    "        return '****'\n",
    "    if _value > 0.001 and _value <=0.01:\n",
    "        return '***'\n",
    "    if _value > 0.01 and _value <=0.05:\n",
    "        return '**'\n",
    "    if _value > 0.05 and _value <=0.1:\n",
    "        return '*'\n",
    "    if _value > 0.1:\n",
    "        return '.'"
   ]
  },
  {
   "cell_type": "code",
   "execution_count": 15,
   "metadata": {},
   "outputs": [
    {
     "name": "stdout",
     "output_type": "stream",
     "text": [
      "no of topics :: 18\n",
      "====================New CSV==================\n",
      "0\n",
      "====================New CSV==================\n",
      "1\n",
      "====================New CSV==================\n",
      "2\n",
      "====================New CSV==================\n",
      "3\n",
      "====================New CSV==================\n",
      "4\n",
      "====================New CSV==================\n",
      "5\n",
      "====================New CSV==================\n",
      "6\n",
      "====================New CSV==================\n",
      "7\n",
      "====================New CSV==================\n",
      "8\n",
      "====================New CSV==================\n",
      "9\n",
      "====================New CSV==================\n",
      "10\n",
      "====================New CSV==================\n",
      "11\n",
      "====================New CSV==================\n",
      "12\n",
      "====================New CSV==================\n",
      "13\n",
      "====================New CSV==================\n",
      "14\n",
      "====================New CSV==================\n",
      "15\n",
      "====================New CSV==================\n",
      "16\n",
      "====================New CSV==================\n",
      "17\n",
      "          Sectors  Manufacturing  Transportation  Services   Finance  \\\n",
      "0   Manufacturing       0.000000       -1.824243 -4.522526 -1.932185   \n",
      "1  Transportation       1.824243        0.000000 -2.171517 -0.219701   \n",
      "2        Services       4.522526        2.171517  0.000000  1.819194   \n",
      "3         Finance       1.932185        0.219701 -1.819194  0.000000   \n",
      "4          Retail       0.632222       -0.442371 -1.977202 -0.586193   \n",
      "5          Others      -0.081725       -0.498101 -1.148505 -0.560495   \n",
      "6    Construction       1.287838        0.864385  0.314125  0.796224   \n",
      "7     Agriculture       1.191461        0.820373  0.332688  0.761015   \n",
      "\n",
      "     Retail    Others  Construction  Agriculture  \n",
      "0 -0.632222  0.081725     -1.287838    -1.191461  \n",
      "1  0.442371  0.498101     -0.864385    -0.820373  \n",
      "2  1.977202  1.148505     -0.314125    -0.332688  \n",
      "3  0.586193  0.560495     -0.796224    -0.761015  \n",
      "4  0.000000  0.309255     -1.010429    -0.968299  \n",
      "5 -0.309255  0.000000     -0.937712    -0.975129  \n",
      "6  1.010429  0.937712      0.000000    -0.036965  \n",
      "7  0.968299  0.975129      0.036965     0.000000  \n",
      "          Sectors  Manufacturing  Transportation  Services   Finance  \\\n",
      "0   Manufacturing       1.000000        0.068136  0.000006  0.053357   \n",
      "1  Transportation       0.068136        1.000000  0.029931  0.826112   \n",
      "2        Services       0.000006        0.029931  1.000000  0.068938   \n",
      "3         Finance       0.053357        0.826112  0.068938  1.000000   \n",
      "4          Retail       0.527253        0.658243  0.048090  0.557783   \n",
      "5          Others       0.934867        0.618446  0.250853  0.575189   \n",
      "6    Construction       0.197829        0.387439  0.753449  0.425974   \n",
      "7     Agriculture       0.233498        0.412063  0.739394  0.446717   \n",
      "\n",
      "     Retail    Others  Construction  Agriculture  \n",
      "0  0.527253  0.934867      0.197829     0.233498  \n",
      "1  0.658243  0.618446      0.387439     0.412063  \n",
      "2  0.048090  0.250853      0.753449     0.739394  \n",
      "3  0.557783  0.575189      0.425974     0.446717  \n",
      "4  1.000000  0.757182      0.312505     0.333105  \n",
      "5  0.757182  1.000000      0.349316     0.330553  \n",
      "6  0.312505  0.349316      1.000000     0.970558  \n",
      "7  0.333105  0.330553      0.970558     1.000000  \n",
      "          Sectors Manufacturing Transportation Services Finance Retail Others  \\\n",
      "0   Manufacturing             .              *     ****       *      .      .   \n",
      "1  Transportation             *              .       **       .      .      .   \n",
      "2        Services          ****             **        .       *     **      .   \n",
      "3         Finance             *              .        *       .      .      .   \n",
      "4          Retail             .              .       **       .      .      .   \n",
      "5          Others             .              .        .       .      .      .   \n",
      "6    Construction             .              .        .       .      .      .   \n",
      "7     Agriculture             .              .        .       .      .      .   \n",
      "\n",
      "  Construction Agriculture  \n",
      "0            .           .  \n",
      "1            .           .  \n",
      "2            .           .  \n",
      "3            .           .  \n",
      "4            .           .  \n",
      "5            .           .  \n",
      "6            .           .  \n",
      "7            .           .  \n"
     ]
    }
   ],
   "source": [
    "noOfTopics = 0\n",
    "#dfcolumns = ['Manufacturing', 'Transportation', 'Services', 'Finance', 'Retail', 'Others', 'Construction', 'Agriculture']\n",
    "dfcolumns = ['Sectors','Manufacturing', 'Transportation', 'Services', 'Finance', 'Retail', 'Others', 'Construction', 'Agriculture']\n",
    "\n",
    "listOfDataframe = [df_Manufacturing, df_Transportation, df_Services, df_Finance, df_Retail, df_Others, df_Construction, df_Agriculture]\n",
    "#listOfDataframe = [df_Manufacturing, df_Transportation,df_Services]\n",
    "\n",
    "for name in df_Manufacturing.loc[:,'topic0':'topic17']:\n",
    "    if 'topic' in name:\n",
    "        noOfTopics +=1\n",
    "print(\"no of topics ::\", noOfTopics)\n",
    "\n",
    "for c in range(noOfTopics):\n",
    "    print('====================New CSV==================')\n",
    "    print(c)\n",
    "    if c not in []:\n",
    "        topic_num = 'topic' + str(c)\n",
    "        #print(\"topic number::\", topic_num)\n",
    "        dft_testScore = pd.DataFrame(columns = dfcolumns)\n",
    "        dft_PeeScore = pd.DataFrame(columns = dfcolumns)\n",
    "        dft_StarScore = pd.DataFrame(columns = dfcolumns)\n",
    "        count_ = 1\n",
    "        for j in (listOfDataframe):\n",
    "            #print(\"j value ::\", j)\n",
    "            #count_ = 1\n",
    "            rowStat =[]\n",
    "            rowStat.append(dfcolumns[count_])\n",
    "            rowPval =[]\n",
    "            rowPval.append(dfcolumns[count_])\n",
    "            rowStarval = []\n",
    "            rowStarval.append(dfcolumns[count_])\n",
    "            for m in listOfDataframe:\n",
    "                #print(\"m value ::\", m)\n",
    "                #print(j[topic_num])\n",
    "                #if (m == j):   \n",
    "                arr_df_outerSectore = j[topic_num].to_numpy()\n",
    "                #print(\"j head::\", j.head(5))\n",
    "                arr_df_innerSector = m[topic_num].to_numpy()\n",
    "                # Use scipy.stats.ttest_ind_from_stats.\n",
    "                #print(\"===========outersector=========\")\n",
    "                #print(arr_df_outerSectore)\n",
    "                np.savetxt(\"outer.csv\", arr_df_outerSectore, delimiter=\",\")\n",
    "                #print(\"===========innersector=========\")\n",
    "                #print(arr_df_innerSector)\n",
    "                np.savetxt(\"inner.csv\", arr_df_innerSector, delimiter=\",\")\n",
    "                t_testScore = stats.ttest_ind(arr_df_outerSectore, arr_df_innerSector)\n",
    "                Starval = starTeller(t_testScore.pvalue)\n",
    "               # print(\"statistic value ::==================\",t_testScore.statistic)\n",
    "                rowStat.append(t_testScore.statistic)\n",
    "                rowPval.append(t_testScore.pvalue)\n",
    "                rowStarval.append(Starval)\n",
    "            count_ = count_ + 1\n",
    "            a_series = pd.Series(rowStat, index = dft_testScore.columns)\n",
    "            b_series = pd.Series(rowPval, index = dft_testScore.columns)\n",
    "            c_series = pd.Series(rowStarval, index = dft_testScore.columns)\n",
    "            dft_testScore = dft_testScore.append(a_series, ignore_index=True)\n",
    "            dft_PeeScore = dft_PeeScore.append(b_series, ignore_index=True)\n",
    "            dft_StarScore = dft_StarScore.append(c_series, ignore_index=True)\n",
    "        #dft_testScore.set_index('Sectors', inplace=True)\n",
    "        #dft_testScore.to_excel(\"dataset1_t_test_Star\" + str(c) + \".xlsx\")\n",
    "                \n",
    "            \n",
    "print(dft_testScore)\n",
    "print(dft_PeeScore)\n",
    "print(dft_StarScore)\n"
   ]
  },
  {
   "cell_type": "code",
   "execution_count": 16,
   "metadata": {},
   "outputs": [
    {
     "data": {
      "text/plain": [
       "Sectors           Agriculture\n",
       "Manufacturing               .\n",
       "Transportation              .\n",
       "Services                    .\n",
       "Finance                     .\n",
       "Retail                      .\n",
       "Others                      .\n",
       "Construction                .\n",
       "Agriculture                 .\n",
       "dtype: object"
      ]
     },
     "execution_count": 16,
     "metadata": {},
     "output_type": "execute_result"
    }
   ],
   "source": [
    "c_series"
   ]
  },
  {
   "cell_type": "code",
   "execution_count": 24,
   "metadata": {},
   "outputs": [
    {
     "name": "stdout",
     "output_type": "stream",
     "text": [
      "[['0.0\\n.', '1.824\\n*', '4.523\\n****', '1.932\\n*', '0.632\\n.', '-0.082\\n.', '1.288\\n.', '1.191\\n.'], ['-1.824\\n*', '0.0\\n.', '2.172\\n**', '0.22\\n.', '-0.442\\n.', '-0.498\\n.', '0.864\\n.', '0.82\\n.'], ['-4.523\\n****', '-2.172\\n**', '0.0\\n.', '-1.819\\n*', '-1.977\\n**', '-1.149\\n.', '0.314\\n.', '0.333\\n.'], ['-1.932\\n*', '-0.22\\n.', '1.819\\n*', '0.0\\n.', '-0.586\\n.', '-0.56\\n.', '0.796\\n.', '0.761\\n.'], ['-0.632\\n.', '0.442\\n.', '1.977\\n**', '0.586\\n.', '0.0\\n.', '-0.309\\n.', '1.01\\n.', '0.968\\n.'], ['0.082\\n.', '0.498\\n.', '1.149\\n.', '0.56\\n.', '0.309\\n.', '0.0\\n.', '0.938\\n.', '0.975\\n.'], ['-1.288\\n.', '-0.864\\n.', '-0.314\\n.', '-0.796\\n.', '-1.01\\n.', '-0.938\\n.', '0.0\\n.', '0.037\\n.'], ['-1.191\\n.', '-0.82\\n.', '-0.333\\n.', '-0.761\\n.', '-0.968\\n.', '-0.975\\n.', '-0.037\\n.', '0.0\\n.']]\n"
     ]
    },
    {
     "data": {
      "text/plain": [
       "<matplotlib.axes._subplots.AxesSubplot at 0x1e1bd1780d0>"
      ]
     },
     "execution_count": 24,
     "metadata": {},
     "output_type": "execute_result"
    },
    {
     "data": {
      "image/png": "[encoded data removed]",
      "text/plain": [
       "<Figure size 510.236x335.339 with 1 Axes>"
      ]
     },
     "metadata": {
      "needs_background": "light"
     },
     "output_type": "display_data"
    }
   ],
   "source": [
    "import csv\n",
    "import matplotlib.pyplot as plt\n",
    "import pandas as pd \n",
    "plt.rcParams.update({'font.size': 8}) #font size \n",
    "\n",
    "df_dataset1 = pd.read_excel(r'Data/Dataset1_tTest/dataset1_t_test_Star0.xlsx')\n",
    "#for index, row in df_dataset1.iterrows():\n",
    "\n",
    "# for index, row in dft_PeeScore.iterrows():\n",
    "#     # unpickled_df.at[index, 'topic' + str(j) + '_max'] = 1\n",
    "#     dft_PeeScore.at[index, [1]] = row[1]+\n",
    "# _r reverses the normal order of the color map 'RdYlGn'\n",
    "\n",
    "\n",
    "listA = [dft_testScore.values.T.tolist()[i] for i in range(1, len(dft_testScore.values.T.tolist()))]\n",
    "listB = [dft_PeeScore.values.T.tolist()[i] for i in range(1, len(dft_PeeScore.values.T.tolist()))]\n",
    "listC = [dft_StarScore.values.T.tolist()[i] for i in range(1, len(dft_StarScore.values.T.tolist()))]\n",
    "\n",
    "#listA = dft_testScore.values.T.tolist()\n",
    "#listB = dft_PeeScore.values.T.tolist()\n",
    "#listC = dft_StarScore.values.T.tolist()\n",
    "\n",
    "\n",
    "for i in range(len(listA)):\n",
    "    for j in range(len(listA[i])):\n",
    "        #listC[i][j] = str(round(listA[i][j], 3))+'\\n'+str(round(listB[i][j], 3))+'\\n'+str(listC[i][j])\n",
    "        listC[i][j] = str(round(listA[i][j], 3))+'\\n'+str(listC[i][j])\n",
    "       \n",
    "print(listC)    \n",
    "#print('listA:: ' + str(len(listA)))\n",
    "#print('listB:: ' + str(len(listB)))\n",
    "#print('listC:: ' + str(len(listC)))\n",
    "fig, ax = plt.subplots(figsize=(18/2.54, 11.83/2.54))\n",
    "color = ['#008c48', '#008c48']\n",
    "cmap = sns.diverging_palette(150, 10, as_cmap=True)\n",
    "\n",
    "sns.heatmap(listA, cmap=cmap, linewidths=1, annot=listC, cbar = False, square =False, ax = ax, annot_kws={\"size\": 10})\n"
   ]
  },
  {
   "cell_type": "code",
   "execution_count": null,
   "metadata": {},
   "outputs": [],
   "source": [
    "df_dataset1.head()"
   ]
  },
  {
   "cell_type": "code",
   "execution_count": null,
   "metadata": {},
   "outputs": [],
   "source": []
  }
 ],
 "metadata": {
  "kernelspec": {
   "display_name": "Python 3",
   "language": "python",
   "name": "python3"
  },
  "language_info": {
   "codemirror_mode": {
    "name": "ipython",
    "version": 3
   },
   "file_extension": ".py",
   "mimetype": "text/x-python",
   "name": "python",
   "nbconvert_exporter": "python",
   "pygments_lexer": "ipython3",
   "version": "3.8.3"
  }
 },
 "nbformat": 4,
 "nbformat_minor": 4
}
